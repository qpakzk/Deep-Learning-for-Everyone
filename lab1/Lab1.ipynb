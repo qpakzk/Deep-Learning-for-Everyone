{
 "cells": [
  {
   "cell_type": "markdown",
   "metadata": {},
   "source": [
    "# Lab 1. TensorFlow Basics\n",
    "\n",
    "## Tensorflow\n",
    "\n",
    "> open source software libraries for numberical computation using data flow graphs\n",
    "\n",
    "## Data Flow Graph\n",
    "\n",
    "  - nodes : mathematical operations\n",
    "  - edges : tensors (multidimensional data arrays)"
   ]
  },
  {
   "cell_type": "markdown",
   "metadata": {},
   "source": [
    "## Hello TensorFlow!"
   ]
  },
  {
   "cell_type": "code",
   "execution_count": 1,
   "metadata": {},
   "outputs": [
    {
     "name": "stdout",
     "output_type": "stream",
     "text": [
      "b'Hello, TensorFlow!'\n"
     ]
    }
   ],
   "source": [
    "import tensorflow as tf\n",
    "\n",
    "hello = tf.constant(\"Hello, TensorFlow!\")\n",
    "sess = tf.Session()\n",
    "print(sess.run(hello))"
   ]
  },
  {
   "cell_type": "markdown",
   "metadata": {},
   "source": [
    "## Computational Graph"
   ]
  },
  {
   "cell_type": "code",
   "execution_count": 2,
   "metadata": {},
   "outputs": [
    {
     "name": "stdout",
     "output_type": "stream",
     "text": [
      "node1: Tensor(\"Const_1:0\", shape=(), dtype=float32) node2: Tensor(\"Const_2:0\", shape=(), dtype=float32)\n",
      "node3: Tensor(\"Add:0\", shape=(), dtype=float32)\n",
      "sess.run(node1, node2):  [3.0, 4.0]\n",
      "sess.run(node3):  7.0\n"
     ]
    }
   ],
   "source": [
    "import tensorflow as tf\n",
    "\n",
    "# Build graph(tensors) using TensorFlow operations.\n",
    "node1 = tf.constant(3.0, tf.float32)\n",
    "node2 = tf.constant(4.0)\n",
    "node3 = tf.add(node1, node2)\n",
    "\n",
    "print(\"node1:\", node1, \"node2:\", node2)\n",
    "print(\"node3:\", node3)\n",
    "\n",
    "# Feed data and run graph(operation). \n",
    "# Update variables in the graph (and return value).\n",
    "\n",
    "sess = tf.Session()\n",
    "print(\"sess.run(node1, node2): \", sess.run([node1, node2]))\n",
    "print(\"sess.run(node3): \", sess.run(node3))"
   ]
  },
  {
   "cell_type": "markdown",
   "metadata": {},
   "source": [
    "## TensorFlow Mechanics\n",
    "\n",
    "1. Build graph(tensors) using TensorFlow operations.\n",
    "1. Feed data and run graph(operation). \n",
    "    - sess.run(op)\n",
    "1. Update variables in the graph (and return value)."
   ]
  },
  {
   "cell_type": "markdown",
   "metadata": {},
   "source": [
    "## Placeholder"
   ]
  },
  {
   "cell_type": "code",
   "execution_count": 3,
   "metadata": {},
   "outputs": [
    {
     "name": "stdout",
     "output_type": "stream",
     "text": [
      "7.5\n",
      "[ 3.  7.]\n"
     ]
    }
   ],
   "source": [
    "import tensorflow as tf\n",
    "\n",
    "a = tf.placeholder(tf.float32)\n",
    "b = tf.placeholder(tf.float32)\n",
    "adder_node = a + b\n",
    "\n",
    "sess = tf.Session()\n",
    "print(sess.run(adder_node, feed_dict={a: 3, b: 4.5}))\n",
    "print(sess.run(adder_node, feed_dict={a: [1, 3], b: [2, 4]}))"
   ]
  },
  {
   "cell_type": "markdown",
   "metadata": {},
   "source": [
    "## Tensor Ranks, Shapes\n",
    "\n",
    "| Rank | Math entity | Python example |\n",
    "|------|-------------|----------------|\n",
    "| 0 | Scalar (magnitude) | s = 483 # shape = [] |\n",
    "| 1 | Vector (magnitude, direction) | v = [1.1, 2.2, 3.3] # shape = [3] |\n",
    "| 2 | Matrix (table of numbers) | m = [[1, 2, 3], [4, 5, 6], [7, 8, 9]] # shape = [3, 3] |\n",
    "| 3 | 3-Tensor (cube of numbers) | t = [[[2], [4], [6]], [[8], [10], [12]], [[14], [16], [18]]] # shape = [3, 3, 1] |\n",
    "| n | n-Tensor | ... |\n",
    "\n",
    "| Rank | Shape | Dimension number |\n",
    "|------|-------|------------------|\n",
    "| 0 | [] | 0-D |\n",
    "| 1 | [D0] | 1-D |\n",
    "| 2 | [D0, D1] | 2-D |\n",
    "| 3 | [D0, D1, D2] | 3-D |\n",
    "| n | [D0, D1, ... , Dn-1] | n-D |\n",
    "\n",
    "\n",
    "## Tensor Types\n",
    "\n",
    "| Data Type | Python Type | Description |\n",
    "|-----------|-------------|-------------|\n",
    "| DT_FLOAT | tf.float32 | 32 bits floating point |\n",
    "| DT_DOUBLE | tf.float64 | 64 bits floating point |\n",
    "| DT_INT8 | tf.int8 | 8 bits signed integer |\n",
    "| DT_INT16 | tf.int16 | 16 bits signed integer |\n",
    "| DT_INT32 | tf.int32 | 32 bits signed integer |\n",
    "| DT_INT64 | tf.int64 | 64 bits signed integer |"
   ]
  }
 ],
 "metadata": {
  "kernelspec": {
   "display_name": "Python 3",
   "language": "python",
   "name": "python3"
  },
  "language_info": {
   "codemirror_mode": {
    "name": "ipython",
    "version": 3
   },
   "file_extension": ".py",
   "mimetype": "text/x-python",
   "name": "python",
   "nbconvert_exporter": "python",
   "pygments_lexer": "ipython3",
   "version": "3.6.1"
  }
 },
 "nbformat": 4,
 "nbformat_minor": 2
}
